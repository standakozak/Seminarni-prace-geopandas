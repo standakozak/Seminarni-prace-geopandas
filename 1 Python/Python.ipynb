{
 "cells": [
  {
   "cell_type": "markdown",
   "metadata": {},
   "source": [
    "# Představení Jupyter Notebooku"
   ]
  },
  {
   "cell_type": "markdown",
   "metadata": {},
   "source": [
    "Tento soubor jen velmi stručně představuje základy Pythonu a Jupyter Notebooku. Pokud máte s Pythonem zkušenosti, můžete ho přeskočit. Pokud se o Python chcete zajímat více, doporučuji se podívat na jakékoliv návody na internetu nebo tutoriály na YouTube.\\\n",
    "Například https://www.w3schools.com/python/, https://www.learnpython.org/."
   ]
  },
  {
   "cell_type": "code",
   "execution_count": 1,
   "metadata": {},
   "outputs": [],
   "source": [
    "# Text, který je na řádku za symbolem # (jako například tento), je komentář a nijak neovlivňuje běh kódu \n",
    "# Komentáře můžete upravovat nebo mazat a nic se nestane, slouží pouze k upřesnění kódu"
   ]
  },
  {
   "cell_type": "code",
   "execution_count": 3,
   "metadata": {},
   "outputs": [
    {
     "data": {
      "text/plain": [
       "5.0"
      ]
     },
     "execution_count": 3,
     "metadata": {},
     "output_type": "execute_result"
    }
   ],
   "source": [
    "# Po spuštění buňky se postupně provedou řádky kódu (pokud není v kódu chyba, v takovém případě se jeho běh hned ukončí)\n",
    "# Výsledek posledního řádku se vypíše ve výstupní buňce (označená např. Out[3])\n",
    "\n",
    "hodnota_x = 2  # Vytvoření proměnné\n",
    "hodnota_x = (hodnota_x + 8) / 2  # Nastavení hodnoty proměnné pomocí předchozí hodnoty stejné proměnné\n",
    "hodnota_x  # Vypsání hodnoty proměnné"
   ]
  },
  {
   "cell_type": "code",
   "execution_count": 2,
   "metadata": {
    "scrolled": false
   },
   "outputs": [
    {
     "ename": "NameError",
     "evalue": "name 'hodnota_x' is not defined",
     "output_type": "error",
     "traceback": [
      "\u001b[1;31m---------------------------------------------------------------------------\u001b[0m",
      "\u001b[1;31mNameError\u001b[0m                                 Traceback (most recent call last)",
      "\u001b[1;32m<ipython-input-2-96fe222e9c7c>\u001b[0m in \u001b[0;36m<module>\u001b[1;34m\u001b[0m\n\u001b[0;32m      1\u001b[0m \u001b[1;31m# Některé buňky závisí na jiných, proto je nutné je spouštět v daném pořadí\u001b[0m\u001b[1;33m\u001b[0m\u001b[1;33m\u001b[0m\u001b[1;33m\u001b[0m\u001b[0m\n\u001b[1;32m----> 2\u001b[1;33m \u001b[0mhodnota_x\u001b[0m  \u001b[1;31m# Tento příkaz vypíše chybu, pokud je tato buňka spuštěna před předcházející\u001b[0m\u001b[1;33m\u001b[0m\u001b[1;33m\u001b[0m\u001b[0m\n\u001b[0m",
      "\u001b[1;31mNameError\u001b[0m: name 'hodnota_x' is not defined"
     ]
    }
   ],
   "source": [
    "# Některé buňky závisí na jiných, proto je nutné je spouštět v daném pořadí. Pořadí spuštění dané buňky je např. In [2]\n",
    "hodnota_x  # Tento příkaz vypíše chybu, pokud je tato buňka spuštěna před předcházející"
   ]
  },
  {
   "cell_type": "markdown",
   "metadata": {},
   "source": [
    "### Druhy hodnot v Pythonu"
   ]
  },
  {
   "cell_type": "code",
   "execution_count": 4,
   "metadata": {},
   "outputs": [
    {
     "name": "stdout",
     "output_type": "stream",
     "text": [
      "Text\n"
     ]
    },
    {
     "data": {
      "text/plain": [
       "[5, 1, 'Třicet']"
      ]
     },
     "execution_count": 4,
     "metadata": {},
     "output_type": "execute_result"
    }
   ],
   "source": [
    "# Hodnoty v Pythonu mohou mít různé typy\n",
    "cislo = -2.1  # Číselná hodnota, používá se pro matematické operace\n",
    "text = \"Hodnota proměnné\"  # Text neboli řetězec, vždy je uzavřen mezi uvozovkami nebo apostrofy\n",
    "pravda = True  # Pravdivostni hodnota (True, False)\n",
    "nic = None  # Někdy je vhodné mít hodnotu, která neobsahuje nic\n",
    "\n",
    "seznam = [1, 2, \"Text\", False]  # Pro více hodnot, seznam (list) je ohraničen hranatými závorkami\n",
    "print(seznam[2])  # Vypíše hodnotu ze seznamu na pozici 2, tedy \"Text\" (seznamy jsou číslované od nuly)\n",
    "\n",
    "slovnik = {70: 2.1, \"Marek\": [5, 1, \"Třicet\"]}  # Slovníky (dictionary) uchovávají hodnoty označené klíči (ve formátu klíč: hodnota). Nemohou obsahovat dva stejné klíče\n",
    "# Všimněte si, že slovník může obsahovat seznam. Může (stejně jako seznam) ale obsahovat libovolné hodnoty, i jiné slovníky.\n",
    "slovnik[\"Marek\"]  # Vypíše [5, 1, \"Třicet\"], protože tato hodnota má klíč \"Marek\""
   ]
  },
  {
   "cell_type": "markdown",
   "metadata": {},
   "source": [
    "### Bloky kódu v Pythonu"
   ]
  },
  {
   "cell_type": "code",
   "execution_count": 5,
   "metadata": {},
   "outputs": [
    {
     "name": "stdout",
     "output_type": "stream",
     "text": [
      "Proměnná y je větší\n",
      "1. řádek\n",
      "2. řádek\n",
      "3. řádek\n",
      "4. řádek\n"
     ]
    }
   ],
   "source": [
    "# Kód se nemusí nutně spouštět postupně. To v případě, že jsou jeho části odsazené pomocí mezer.\n",
    "\n",
    "x = 2\n",
    "y = 3\n",
    "\n",
    "# Použití podmínek \n",
    "if x == y:  # Následující kód se spustí, pokud se x rovná y\n",
    "    print(\"Proměnné jsou stejné\")\n",
    "elif x > y:  # Kód se spustí, pokud se nespustil předchozí a pokud je splněna podmínka\n",
    "    print(\"Proměnná x je větší\")\n",
    "else:  # Kód se spustí, pokud se nespustil žádný z předchozích\n",
    "    print(\"Proměnná y je větší\")\n",
    "    \n",
    "\n",
    "# Použití cyklu for\n",
    "for poradi in range(1, 5):  # Následující kód bude spouštěn tolikrát, kolik je hodnot v range(1, 5). Hodnota proměnné se bude měnit\n",
    "    print(f\"{poradi}. řádek\") # Vypíše proměnnou (např. \"2. řádek\")\n",
    "\n",
    "\n",
    "# Cyklus while\n",
    "while False:  # Bude se provádět, dokud bude podmínka splněna. V tomto případě se neprovede nikdy (False nikdy nemůže být pravda)\n",
    "    # Může obsahovat více řádků, další cykly...\n",
    "    print(\"Vypsaná hodnota\")\n",
    "    print(\"Jiná hodnota\")\n",
    "    if True:\n",
    "        print(\"Další hodnota\")"
   ]
  },
  {
   "cell_type": "markdown",
   "metadata": {},
   "source": [
    "# Ukázka Jupyter Notebooku"
   ]
  },
  {
   "cell_type": "code",
   "execution_count": 6,
   "metadata": {},
   "outputs": [
    {
     "data": {
      "text/plain": [
       "[<matplotlib.lines.Line2D at 0x26afe7d9040>]"
      ]
     },
     "execution_count": 6,
     "metadata": {},
     "output_type": "execute_result"
    },
    {
     "data": {
      "image/png": "[encoded data removed]",
      "text/plain": [
       "<Figure size 432x288 with 1 Axes>"
      ]
     },
     "metadata": {
      "needs_background": "light"
     },
     "output_type": "display_data"
    }
   ],
   "source": [
    "import numpy as np  # Importování a pojmenování knihovny\n",
    "import matplotlib.pyplot as plt\n",
    "x = np.linspace(-2, 6)  # Vytvoření pole s 50 rovnoměrně rozloženými čísly mezi -2 a 6. Pole (ndarray) je objekt knihovny NumPy\n",
    "plt.title(\"Function $ x^2 $\")  # Nastavení názvu (mezi symboly $ je LaTeX kód, používá se k matematickému zápisu)\n",
    "plt.plot(x, x**2)  # Vytvoření samotného grafu"
   ]
  }
 ],
 "metadata": {
  "kernelspec": {
   "display_name": "Python 3",
   "language": "python",
   "name": "python3"
  },
  "language_info": {
   "codemirror_mode": {
    "name": "ipython",
    "version": 3
   },
   "file_extension": ".py",
   "mimetype": "text/x-python",
   "name": "python",
   "nbconvert_exporter": "python",
   "pygments_lexer": "ipython3",
   "version": "3.9.1"
  }
 },
 "nbformat": 4,
 "nbformat_minor": 4
}
